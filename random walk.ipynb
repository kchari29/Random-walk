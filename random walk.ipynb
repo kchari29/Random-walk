{
 "cells": [
  {
   "cell_type": "markdown",
   "metadata": {},
   "source": [
    "# Random_walk"
   ]
  },
  {
   "cell_type": "markdown",
   "metadata": {},
   "source": [
    "#It is the movement of an object or change of  \\\n",
    " variables without any particular rule or law.\n",
    " In physics it is also known as Brownian motion or Simson's walk which follow no discernible pattern or trend. Random walks have interesting mathematical properties that vary greatly depending on the dimension in which the walk occurs and whether it is confined to a lattice."
   ]
  },
  {
   "cell_type": "code",
   "execution_count": null,
   "metadata": {},
   "outputs": [],
   "source": [
    "import random as random\n",
    "import matplotlib.pyplot as plt\n",
    "%matplotlib inline \n",
    "import numpy as np\n",
    "import json\n",
    "import numpy as np"
   ]
  },
  {
   "cell_type": "code",
   "execution_count": null,
   "metadata": {},
   "outputs": [],
   "source": [
    "n = 100000\n",
    "x = np.zeros(n)\n",
    "y = np.zeros(n)\n",
    "for i in range(1, n):\n",
    "    direction = random.randint(1, 4)\n",
    "    if direction == 1:\n",
    "        x[i] = x[i-1] + 1\n",
    "        y[i] = y[i-1]\n",
    "    elif direction == 2:\n",
    "        x[i] = x[i-1] - 1\n",
    "        y[i] = y[i-1]\n",
    "    elif direction == 3:\n",
    "        y[i] = y[i-1] + 1\n",
    "        x[i] = x[i-1]\n",
    "    else:\n",
    "        y[i] = y[i-1] - 1\n",
    "        x[i] = x[i-1]\n",
    "    plt.title(\"random walk ($ n= \"+str(n) + \"$ steps)\")\n",
    "    plt.plot(x,y)\n",
    "    plt.show()\n",
    "    "
   ]
  },
  {
   "cell_type": "code",
   "execution_count": null,
   "metadata": {},
   "outputs": [],
   "source": []
  },
  {
   "cell_type": "code",
   "execution_count": null,
   "metadata": {},
   "outputs": [],
   "source": [
    "\n",
    "import json\n",
    "with open ('walk/random_walk.json', 'w')as f:\n",
    "    json.dump([x,y],f)"
   ]
  },
  {
   "cell_type": "code",
   "execution_count": null,
   "metadata": {},
   "outputs": [],
   "source": []
  }
 ],
 "metadata": {
  "kernelspec": {
   "display_name": "Python 3",
   "language": "python",
   "name": "python3"
  },
  "language_info": {
   "codemirror_mode": {
    "name": "ipython",
    "version": 3
   },
   "file_extension": ".py",
   "mimetype": "text/x-python",
   "name": "python",
   "nbconvert_exporter": "python",
   "pygments_lexer": "ipython3",
   "version": "3.7.6"
  }
 },
 "nbformat": 4,
 "nbformat_minor": 4
}
